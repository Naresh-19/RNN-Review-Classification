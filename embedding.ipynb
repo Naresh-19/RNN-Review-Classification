{
 "cells": [
  {
   "cell_type": "code",
   "execution_count": 1,
   "metadata": {},
   "outputs": [],
   "source": [
    "from tensorflow.keras.preprocessing.text import one_hot"
   ]
  },
  {
   "cell_type": "code",
   "execution_count": 2,
   "metadata": {},
   "outputs": [],
   "source": [
    "sent = [\n",
    "    \"The cat chased the mouse.\",\n",
    "    \"I enjoy reading good books.\",\n",
    "    \"They walked through the park.\",\n",
    "    \"The sky is bright blue.\",\n",
    "    \"She baked a chocolate cake.\",\n",
    "    \"We are going to school.\",\n",
    "    \"He drives a fast car.\",\n",
    "    \"My phone battery is low.\"\n",
    "]\n"
   ]
  },
  {
   "cell_type": "code",
   "execution_count": 3,
   "metadata": {},
   "outputs": [],
   "source": [
    "# Define the vocabulary size\n",
    "voc_size = 10000"
   ]
  },
  {
   "cell_type": "code",
   "execution_count": 6,
   "metadata": {},
   "outputs": [
    {
     "data": {
      "text/plain": [
       "[[8250, 899, 9422, 8250, 4103],\n",
       " [144, 7445, 6067, 1265, 230],\n",
       " [7715, 2951, 9539, 8250, 4188],\n",
       " [8250, 1744, 9511, 6580, 6068],\n",
       " [8901, 4053, 76, 4727, 3617],\n",
       " [2551, 9805, 7578, 9402, 9602],\n",
       " [207, 242, 76, 7311, 1985],\n",
       " [5557, 5201, 3388, 9511, 133]]"
      ]
     },
     "execution_count": 6,
     "metadata": {},
     "output_type": "execute_result"
    }
   ],
   "source": [
    "one_hot_rep = [one_hot(words,voc_size) for words in sent]\n",
    "one_hot_rep"
   ]
  },
  {
   "cell_type": "code",
   "execution_count": 7,
   "metadata": {},
   "outputs": [],
   "source": [
    "from tensorflow.keras.layers import Embedding\n",
    "from tensorflow.keras.utils import pad_sequences \n",
    "from tensorflow.keras.models import Sequential"
   ]
  },
  {
   "cell_type": "code",
   "execution_count": 8,
   "metadata": {},
   "outputs": [],
   "source": [
    "import numpy as np "
   ]
  },
  {
   "cell_type": "code",
   "execution_count": 11,
   "metadata": {},
   "outputs": [
    {
     "name": "stdout",
     "output_type": "stream",
     "text": [
      "[[   0    0    0 8250  899 9422 8250 4103]\n",
      " [   0    0    0  144 7445 6067 1265  230]\n",
      " [   0    0    0 7715 2951 9539 8250 4188]\n",
      " [   0    0    0 8250 1744 9511 6580 6068]\n",
      " [   0    0    0 8901 4053   76 4727 3617]\n",
      " [   0    0    0 2551 9805 7578 9402 9602]\n",
      " [   0    0    0  207  242   76 7311 1985]\n",
      " [   0    0    0 5557 5201 3388 9511  133]]\n"
     ]
    }
   ],
   "source": [
    "sent_length = 8\n",
    "embedded_docs = pad_sequences(one_hot_rep,padding='pre',maxlen=8)\n",
    "print(embedded_docs)"
   ]
  },
  {
   "cell_type": "markdown",
   "metadata": {},
   "source": [
    "Feature Representation"
   ]
  },
  {
   "cell_type": "code",
   "execution_count": 12,
   "metadata": {},
   "outputs": [],
   "source": [
    "dim = 10"
   ]
  },
  {
   "cell_type": "code",
   "execution_count": 13,
   "metadata": {},
   "outputs": [],
   "source": [
    "model = Sequential()\n",
    "\n",
    "model.add(Embedding(voc_size,dim,input_length = sent_length))\n",
    "model.compile('adam','mse')"
   ]
  },
  {
   "cell_type": "code",
   "execution_count": 14,
   "metadata": {},
   "outputs": [
    {
     "name": "stdout",
     "output_type": "stream",
     "text": [
      "Model: \"sequential\"\n",
      "_________________________________________________________________\n",
      " Layer (type)                Output Shape              Param #   \n",
      "=================================================================\n",
      " embedding (Embedding)       (None, 8, 10)             100000    \n",
      "                                                                 \n",
      "=================================================================\n",
      "Total params: 100,000\n",
      "Trainable params: 100,000\n",
      "Non-trainable params: 0\n",
      "_________________________________________________________________\n"
     ]
    }
   ],
   "source": [
    "model.summary()"
   ]
  },
  {
   "cell_type": "code",
   "execution_count": 18,
   "metadata": {},
   "outputs": [
    {
     "name": "stdout",
     "output_type": "stream",
     "text": [
      "1/1 [==============================] - 0s 18ms/step\n"
     ]
    },
    {
     "data": {
      "text/plain": [
       "array([[ 0.01567448,  0.04304339, -0.03148543,  0.04349372,  0.02190508,\n",
       "         0.04050709, -0.0406986 , -0.01337341, -0.00919558, -0.04099067],\n",
       "       [ 0.01567448,  0.04304339, -0.03148543,  0.04349372,  0.02190508,\n",
       "         0.04050709, -0.0406986 , -0.01337341, -0.00919558, -0.04099067],\n",
       "       [ 0.01567448,  0.04304339, -0.03148543,  0.04349372,  0.02190508,\n",
       "         0.04050709, -0.0406986 , -0.01337341, -0.00919558, -0.04099067],\n",
       "       [ 0.02540337,  0.01742646, -0.00790436, -0.03191113,  0.04965147,\n",
       "         0.03981615,  0.02867975,  0.01156612,  0.02313707, -0.00564238],\n",
       "       [-0.01583352, -0.02669426, -0.04196541,  0.01737544,  0.01536424,\n",
       "        -0.03148125,  0.04589329, -0.02059658,  0.02554991, -0.03879876],\n",
       "       [-0.03192351, -0.0455606 , -0.0119189 , -0.02030618,  0.01529605,\n",
       "        -0.01960042, -0.0156378 ,  0.03506709,  0.01617089, -0.01465122],\n",
       "       [ 0.02540337,  0.01742646, -0.00790436, -0.03191113,  0.04965147,\n",
       "         0.03981615,  0.02867975,  0.01156612,  0.02313707, -0.00564238],\n",
       "       [-0.0466946 ,  0.02776538,  0.00824461,  0.04315865,  0.01857987,\n",
       "        -0.0059406 ,  0.02516231,  0.01045337,  0.01986617,  0.01562719]],\n",
       "      dtype=float32)"
      ]
     },
     "execution_count": 18,
     "metadata": {},
     "output_type": "execute_result"
    }
   ],
   "source": [
    "model.predict(embedded_docs[0])"
   ]
  }
 ],
 "metadata": {
  "kernelspec": {
   "display_name": "py310",
   "language": "python",
   "name": "python3"
  },
  "language_info": {
   "codemirror_mode": {
    "name": "ipython",
    "version": 3
   },
   "file_extension": ".py",
   "mimetype": "text/x-python",
   "name": "python",
   "nbconvert_exporter": "python",
   "pygments_lexer": "ipython3",
   "version": "3.10.14"
  },
  "orig_nbformat": 4
 },
 "nbformat": 4,
 "nbformat_minor": 2
}
