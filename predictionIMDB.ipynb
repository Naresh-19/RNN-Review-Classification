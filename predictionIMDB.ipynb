{
 "cells": [
  {
   "cell_type": "code",
   "execution_count": 12,
   "metadata": {},
   "outputs": [],
   "source": [
    "import tensorflow as tf\n",
    "from tensorflow.keras.preprocessing import sequence\n",
    "from tensorflow.keras.datasets import imdb\n",
    "from tensorflow.keras.models import load_model\n"
   ]
  },
  {
   "cell_type": "code",
   "execution_count": 13,
   "metadata": {},
   "outputs": [],
   "source": [
    "word_index = imdb.get_word_index()\n",
    "reversed_word_index = {value : key for key,value in word_index.items()}\n",
    "\n"
   ]
  },
  {
   "cell_type": "code",
   "execution_count": 14,
   "metadata": {},
   "outputs": [
    {
     "name": "stdout",
     "output_type": "stream",
     "text": [
      "Requirement already satisfied: tensorflow==2.13 in c:\\programdata\\anaconda3\\lib\\site-packages (2.13.0)\n",
      "Note: you may need to restart the kernel to use updated packages.\n"
     ]
    },
    {
     "name": "stderr",
     "output_type": "stream",
     "text": [
      "ERROR: Could not find a version that satisfies the requirement keras==2.13 (from versions: 0.2.0, 0.3.0, 0.3.1, 0.3.2, 0.3.3, 1.0.0, 1.0.1, 1.0.2, 1.0.3, 1.0.4, 1.0.5, 1.0.6, 1.0.7, 1.0.8, 1.1.0, 1.1.1, 1.1.2, 1.2.0, 1.2.1, 1.2.2, 2.0.0, 2.0.1, 2.0.2, 2.0.3, 2.0.4, 2.0.5, 2.0.6, 2.0.7, 2.0.8, 2.0.9, 2.1.0, 2.1.1, 2.1.2, 2.1.3, 2.1.4, 2.1.5, 2.1.6, 2.2.0, 2.2.1, 2.2.2, 2.2.3, 2.2.4, 2.2.5, 2.3.0, 2.3.1, 2.4.0, 2.4.1, 2.4.2, 2.4.3, 2.5.0rc0, 2.6.0rc0, 2.6.0rc1, 2.6.0rc2, 2.6.0rc3, 2.6.0, 2.7.0rc0, 2.7.0rc2, 2.7.0, 2.8.0rc0, 2.8.0rc1, 2.8.0, 2.9.0rc0, 2.9.0rc1, 2.9.0rc2, 2.9.0, 2.10.0rc0, 2.10.0rc1, 2.10.0, 2.11.0rc0, 2.11.0rc1, 2.11.0rc2, 2.11.0rc3, 2.11.0, 2.12.0rc0, 2.12.0rc1, 2.12.0, 2.13.1rc0, 2.13.1rc1, 2.13.1, 2.14.0rc0, 2.14.0, 2.15.0rc0, 2.15.0rc1, 2.15.0, 3.0.0, 3.0.1, 3.0.2, 3.0.3, 3.0.4, 3.0.5, 3.1.0, 3.1.1, 3.2.0, 3.2.1, 3.3.0, 3.3.1, 3.3.2, 3.3.3, 3.4.0, 3.4.1, 3.5.0, 3.6.0)\n",
      "ERROR: No matching distribution found for keras==2.13\n"
     ]
    }
   ],
   "source": [
    "pip install tensorflow==2.13 keras==2.13\n"
   ]
  },
  {
   "cell_type": "code",
   "execution_count": 15,
   "metadata": {},
   "outputs": [
    {
     "name": "stdout",
     "output_type": "stream",
     "text": [
      "2.13.1\n",
      "2.13.0\n"
     ]
    }
   ],
   "source": [
    "import keras\n",
    "print(keras.__version__)\n",
    "print(tf.__version__)\n"
   ]
  },
  {
   "cell_type": "code",
   "execution_count": 16,
   "metadata": {},
   "outputs": [
    {
     "ename": "TypeError",
     "evalue": "Error when deserializing class 'InputLayer' using config={'batch_shape': [32, 500], 'dtype': 'float32', 'sparse': False, 'name': 'input_layer'}.\n\nException encountered: Unrecognized keyword arguments: ['batch_shape']",
     "output_type": "error",
     "traceback": [
      "\u001b[1;31m---------------------------------------------------------------------------\u001b[0m",
      "\u001b[1;31mTypeError\u001b[0m                                 Traceback (most recent call last)",
      "Cell \u001b[1;32mIn[16], line 1\u001b[0m\n\u001b[1;32m----> 1\u001b[0m model \u001b[39m=\u001b[39m load_model(\u001b[39m'\u001b[39m\u001b[39mimdb_rnn.h5\u001b[39m\u001b[39m'\u001b[39m)\n\u001b[0;32m      2\u001b[0m model\u001b[39m.\u001b[39msummary()\n",
      "File \u001b[1;32mc:\\ProgramData\\anaconda3\\Lib\\site-packages\\keras\\src\\saving\\saving_api.py:238\u001b[0m, in \u001b[0;36mload_model\u001b[1;34m(filepath, custom_objects, compile, safe_mode, **kwargs)\u001b[0m\n\u001b[0;32m    230\u001b[0m     \u001b[39mreturn\u001b[39;00m saving_lib\u001b[39m.\u001b[39mload_model(\n\u001b[0;32m    231\u001b[0m         filepath,\n\u001b[0;32m    232\u001b[0m         custom_objects\u001b[39m=\u001b[39mcustom_objects,\n\u001b[0;32m    233\u001b[0m         \u001b[39mcompile\u001b[39m\u001b[39m=\u001b[39m\u001b[39mcompile\u001b[39m,\n\u001b[0;32m    234\u001b[0m         safe_mode\u001b[39m=\u001b[39msafe_mode,\n\u001b[0;32m    235\u001b[0m     )\n\u001b[0;32m    237\u001b[0m \u001b[39m# Legacy case.\u001b[39;00m\n\u001b[1;32m--> 238\u001b[0m \u001b[39mreturn\u001b[39;00m legacy_sm_saving_lib\u001b[39m.\u001b[39mload_model(\n\u001b[0;32m    239\u001b[0m     filepath, custom_objects\u001b[39m=\u001b[39mcustom_objects, \u001b[39mcompile\u001b[39m\u001b[39m=\u001b[39m\u001b[39mcompile\u001b[39m, \u001b[39m*\u001b[39m\u001b[39m*\u001b[39mkwargs\n\u001b[0;32m    240\u001b[0m )\n",
      "File \u001b[1;32mc:\\ProgramData\\anaconda3\\Lib\\site-packages\\keras\\src\\utils\\traceback_utils.py:70\u001b[0m, in \u001b[0;36mfilter_traceback.<locals>.error_handler\u001b[1;34m(*args, **kwargs)\u001b[0m\n\u001b[0;32m     67\u001b[0m     filtered_tb \u001b[39m=\u001b[39m _process_traceback_frames(e\u001b[39m.\u001b[39m__traceback__)\n\u001b[0;32m     68\u001b[0m     \u001b[39m# To get the full stack trace, call:\u001b[39;00m\n\u001b[0;32m     69\u001b[0m     \u001b[39m# `tf.debugging.disable_traceback_filtering()`\u001b[39;00m\n\u001b[1;32m---> 70\u001b[0m     \u001b[39mraise\u001b[39;00m e\u001b[39m.\u001b[39mwith_traceback(filtered_tb) \u001b[39mfrom\u001b[39;00m \u001b[39mNone\u001b[39;00m\n\u001b[0;32m     71\u001b[0m \u001b[39mfinally\u001b[39;00m:\n\u001b[0;32m     72\u001b[0m     \u001b[39mdel\u001b[39;00m filtered_tb\n",
      "File \u001b[1;32mc:\\ProgramData\\anaconda3\\Lib\\site-packages\\keras\\src\\engine\\base_layer.py:870\u001b[0m, in \u001b[0;36mLayer.from_config\u001b[1;34m(cls, config)\u001b[0m\n\u001b[0;32m    868\u001b[0m     \u001b[39mreturn\u001b[39;00m \u001b[39mcls\u001b[39m(\u001b[39m*\u001b[39m\u001b[39m*\u001b[39mconfig)\n\u001b[0;32m    869\u001b[0m \u001b[39mexcept\u001b[39;00m \u001b[39mException\u001b[39;00m \u001b[39mas\u001b[39;00m e:\n\u001b[1;32m--> 870\u001b[0m     \u001b[39mraise\u001b[39;00m \u001b[39mTypeError\u001b[39;00m(\n\u001b[0;32m    871\u001b[0m         \u001b[39mf\u001b[39m\u001b[39m\"\u001b[39m\u001b[39mError when deserializing class \u001b[39m\u001b[39m'\u001b[39m\u001b[39m{\u001b[39;00m\u001b[39mcls\u001b[39m\u001b[39m.\u001b[39m\u001b[39m__name__\u001b[39m\u001b[39m}\u001b[39;00m\u001b[39m'\u001b[39m\u001b[39m using \u001b[39m\u001b[39m\"\u001b[39m\n\u001b[0;32m    872\u001b[0m         \u001b[39mf\u001b[39m\u001b[39m\"\u001b[39m\u001b[39mconfig=\u001b[39m\u001b[39m{\u001b[39;00mconfig\u001b[39m}\u001b[39;00m\u001b[39m.\u001b[39m\u001b[39m\\n\u001b[39;00m\u001b[39m\\n\u001b[39;00m\u001b[39mException encountered: \u001b[39m\u001b[39m{\u001b[39;00me\u001b[39m}\u001b[39;00m\u001b[39m\"\u001b[39m\n\u001b[0;32m    873\u001b[0m     )\n",
      "\u001b[1;31mTypeError\u001b[0m: Error when deserializing class 'InputLayer' using config={'batch_shape': [32, 500], 'dtype': 'float32', 'sparse': False, 'name': 'input_layer'}.\n\nException encountered: Unrecognized keyword arguments: ['batch_shape']"
     ]
    }
   ],
   "source": [
    "model = load_model('simple_rnn.h5')\n",
    "model.summary()"
   ]
  },
  {
   "cell_type": "code",
   "execution_count": null,
   "metadata": {},
   "outputs": [
    {
     "data": {
      "text/plain": [
       "[array([[ 0.00182318,  0.00772468, -0.00492932, ..., -0.01057072,\n",
       "          0.02011863, -0.00394423],\n",
       "        [-0.02591562,  0.00736758,  0.02972979, ...,  0.00455945,\n",
       "         -0.05203968,  0.03671327],\n",
       "        [ 0.02196972, -0.0004746 ,  0.00346086, ..., -0.03936144,\n",
       "          0.0409793 ,  0.03666954],\n",
       "        ...,\n",
       "        [ 0.06458925,  0.06530255, -0.04270237, ..., -0.0156564 ,\n",
       "         -0.07740586,  0.0048055 ],\n",
       "        [-0.01372956, -0.07858631, -0.0016995 , ..., -0.0531494 ,\n",
       "          0.0016059 , -0.06528876],\n",
       "        [ 0.09417675,  0.05590605, -0.0928083 , ..., -0.07014956,\n",
       "         -0.04472756,  0.05931078]], dtype=float32),\n",
       " array([[-0.00830223,  0.02300842,  0.05986583, ..., -0.04990981,\n",
       "          0.09681936, -0.03166733],\n",
       "        [ 0.03355756, -0.08948413,  0.09254167, ...,  0.06831621,\n",
       "          0.10321175, -0.1483586 ],\n",
       "        [-0.10143069,  0.08652668,  0.01512432, ...,  0.07860575,\n",
       "         -0.05357716,  0.13784906],\n",
       "        ...,\n",
       "        [ 0.05681321, -0.03911307, -0.08301362, ...,  0.08906855,\n",
       "          0.11270261, -0.08744875],\n",
       "        [-0.09141632,  0.05249412, -0.09255045, ..., -0.00718007,\n",
       "          0.13912773,  0.11357567],\n",
       "        [ 0.07377163, -0.08669063,  0.08746509, ...,  0.03813828,\n",
       "         -0.08223004,  0.02282832]], dtype=float32),\n",
       " array([[-0.1012673 ,  0.04669688,  0.08440282, ..., -0.17546642,\n",
       "         -0.07681868, -0.00467448],\n",
       "        [-0.05333596,  0.01581561,  0.12753655, ..., -0.02027797,\n",
       "          0.0823655 , -0.21469924],\n",
       "        [-0.08275916,  0.02495984,  0.21178396, ..., -0.10060627,\n",
       "         -0.08943912, -0.15187761],\n",
       "        ...,\n",
       "        [-0.02877584,  0.05403491,  0.15063348, ...,  0.00131301,\n",
       "         -0.15792733, -0.20697346],\n",
       "        [ 0.11467823, -0.1515316 ,  0.10069272, ...,  0.05646267,\n",
       "         -0.07175282, -0.06117167],\n",
       "        [-0.07674311,  0.12327626, -0.14426966, ..., -0.07296918,\n",
       "          0.02315057,  0.00709419]], dtype=float32),\n",
       " array([-0.02283055, -0.01843317,  0.00402046, -0.00353007,  0.01674803,\n",
       "         0.00208707, -0.01326277,  0.02371182, -0.01853686,  0.01118809,\n",
       "        -0.00211328, -0.00277275,  0.0111953 ,  0.01447257,  0.00386245,\n",
       "         0.01399363, -0.02347941,  0.00901383, -0.02947607, -0.01371453,\n",
       "        -0.01081773, -0.0013926 ,  0.00243045,  0.01180331, -0.02296862,\n",
       "        -0.01099848, -0.00119936, -0.01605135,  0.01726391, -0.01745631,\n",
       "         0.00081051,  0.01487616,  0.0215    ,  0.02196518, -0.00724261,\n",
       "         0.002166  ,  0.00780501, -0.00312243, -0.01450647, -0.02746049,\n",
       "        -0.01890187, -0.0043988 ,  0.01241585,  0.01917386, -0.02832513,\n",
       "         0.00465016,  0.0163193 ,  0.01696705, -0.00177001, -0.00646875,\n",
       "         0.00952308, -0.01390571, -0.01098493, -0.01206273,  0.00634956,\n",
       "        -0.00397143,  0.01508918, -0.0117234 ,  0.00812836, -0.02151246,\n",
       "         0.01750658,  0.01037618,  0.00869703, -0.0020215 ,  0.00993368,\n",
       "        -0.00396386,  0.01300126, -0.00875109, -0.00517917, -0.00543572,\n",
       "         0.00739548,  0.00654144,  0.01680969,  0.01914649,  0.01623084,\n",
       "         0.00902678, -0.0091323 , -0.0053649 ,  0.00303966, -0.02420606,\n",
       "        -0.02245776, -0.00178447, -0.00695173, -0.02814467, -0.00847997,\n",
       "        -0.01402729,  0.01033795, -0.01233921,  0.00491134, -0.00935045,\n",
       "        -0.02443946, -0.01526846, -0.01120147,  0.00986749,  0.0086266 ,\n",
       "        -0.00102995, -0.00544126,  0.00018915,  0.01310219,  0.01871056,\n",
       "        -0.02334602, -0.01269066,  0.00769295, -0.00705542,  0.0013276 ,\n",
       "        -0.03067368,  0.01034526, -0.02077205,  0.01169123, -0.0143258 ,\n",
       "         0.02225768, -0.00926331, -0.01250391, -0.01361198,  0.01515044,\n",
       "         0.0114479 , -0.00264544,  0.02160096,  0.01391978,  0.01608594,\n",
       "        -0.0048513 , -0.02209798,  0.00678233,  0.01110773,  0.00237704,\n",
       "        -0.02064423, -0.01075068, -0.02830051], dtype=float32),\n",
       " array([[ 0.17086361],\n",
       "        [-0.19337338],\n",
       "        [ 0.14841871],\n",
       "        [ 0.15266615],\n",
       "        [ 0.21865572],\n",
       "        [ 0.02694701],\n",
       "        [-0.13801965],\n",
       "        [-0.18349719],\n",
       "        [ 0.10942831],\n",
       "        [-0.13231924],\n",
       "        [ 0.20380007],\n",
       "        [-0.00624076],\n",
       "        [-0.8409941 ],\n",
       "        [-0.20301041],\n",
       "        [ 0.21689327],\n",
       "        [-0.15930595],\n",
       "        [ 0.25787407],\n",
       "        [ 0.10549358],\n",
       "        [-0.02984872],\n",
       "        [ 0.18586725],\n",
       "        [ 0.13296545],\n",
       "        [-0.09345602],\n",
       "        [ 0.13695692],\n",
       "        [-0.1269127 ],\n",
       "        [ 0.03926793],\n",
       "        [-0.17529517],\n",
       "        [-0.02750507],\n",
       "        [-0.09146981],\n",
       "        [-0.01607829],\n",
       "        [ 0.4526997 ],\n",
       "        [ 0.1862075 ],\n",
       "        [ 0.21717559],\n",
       "        [-0.16620316],\n",
       "        [-0.15744352],\n",
       "        [ 0.13326891],\n",
       "        [ 0.11492186],\n",
       "        [-0.21055439],\n",
       "        [ 0.18353643],\n",
       "        [ 0.17192067],\n",
       "        [ 0.00130829],\n",
       "        [ 0.27160093],\n",
       "        [-0.06756872],\n",
       "        [-0.04720067],\n",
       "        [-0.1786064 ],\n",
       "        [-0.62172216],\n",
       "        [-0.00448951],\n",
       "        [-0.0894592 ],\n",
       "        [ 0.79254496],\n",
       "        [-0.5000976 ],\n",
       "        [ 0.12841822],\n",
       "        [ 0.41013408],\n",
       "        [-0.0953169 ],\n",
       "        [ 0.1482785 ],\n",
       "        [ 0.0778549 ],\n",
       "        [-0.02068607],\n",
       "        [-0.0458851 ],\n",
       "        [-0.11912636],\n",
       "        [ 0.17442709],\n",
       "        [-0.00620035],\n",
       "        [ 0.09870792],\n",
       "        [ 0.43073967],\n",
       "        [-0.19329655],\n",
       "        [ 0.3687544 ],\n",
       "        [ 0.20141333],\n",
       "        [ 0.02966449],\n",
       "        [ 0.14379326],\n",
       "        [-0.11511831],\n",
       "        [-0.06379763],\n",
       "        [ 0.2049642 ],\n",
       "        [ 0.2172326 ],\n",
       "        [-0.21538284],\n",
       "        [-0.01277267],\n",
       "        [-0.17591204],\n",
       "        [-0.13896859],\n",
       "        [ 0.11252063],\n",
       "        [-0.7686731 ],\n",
       "        [-0.01488851],\n",
       "        [ 0.11005993],\n",
       "        [-0.47629356],\n",
       "        [ 0.10083073],\n",
       "        [-0.07445879],\n",
       "        [ 0.07208776],\n",
       "        [-0.08641024],\n",
       "        [ 0.06138653],\n",
       "        [ 0.20630667],\n",
       "        [ 0.07309197],\n",
       "        [-0.06721404],\n",
       "        [-0.01217893],\n",
       "        [ 0.22726387],\n",
       "        [ 0.01974785],\n",
       "        [ 0.23462893],\n",
       "        [ 0.14582543],\n",
       "        [ 0.0618863 ],\n",
       "        [ 0.13137075],\n",
       "        [ 0.10826557],\n",
       "        [ 0.06444167],\n",
       "        [-0.18600391],\n",
       "        [-0.03321378],\n",
       "        [-0.01747063],\n",
       "        [ 0.0323087 ],\n",
       "        [ 0.29926515],\n",
       "        [-0.02870658],\n",
       "        [-0.25347784],\n",
       "        [ 0.09285326],\n",
       "        [-0.14811504],\n",
       "        [ 0.2848187 ],\n",
       "        [-0.06453329],\n",
       "        [-0.10008688],\n",
       "        [-0.18694925],\n",
       "        [-0.20180863],\n",
       "        [-0.2406596 ],\n",
       "        [-0.09501002],\n",
       "        [-0.3343343 ],\n",
       "        [ 0.10210954],\n",
       "        [-0.00529944],\n",
       "        [-0.3444491 ],\n",
       "        [ 0.02922255],\n",
       "        [ 0.12508824],\n",
       "        [-0.24149632],\n",
       "        [-0.1037378 ],\n",
       "        [ 0.10000528],\n",
       "        [ 0.01191274],\n",
       "        [-0.18702494],\n",
       "        [-0.13633649],\n",
       "        [ 0.14123106],\n",
       "        [ 0.17450593],\n",
       "        [ 0.08943071],\n",
       "        [-0.05373418]], dtype=float32),\n",
       " array([-0.09502462], dtype=float32)]"
      ]
     },
     "execution_count": 8,
     "metadata": {},
     "output_type": "execute_result"
    }
   ],
   "source": [
    "model.get_weights()"
   ]
  },
  {
   "cell_type": "code",
   "execution_count": null,
   "metadata": {},
   "outputs": [],
   "source": [
    "# Step 2: Helper Functions\n",
    "# Function to decode reviews\n",
    "def decode_review(encoded_review):\n",
    "    return ' '.join([reversed_word_index.get(i - 3, '?') for i in encoded_review])\n",
    "\n",
    "# Function to preprocess user input\n",
    "def preprocess_text(text):\n",
    "    words = text.lower().split()\n",
    "    encoded_review = [word_index.get(word, 2) + 3 for word in words]\n",
    "    padded_review = sequence.pad_sequences([encoded_review], maxlen=500)\n",
    "    return padded_review"
   ]
  },
  {
   "cell_type": "code",
   "execution_count": null,
   "metadata": {},
   "outputs": [],
   "source": [
    "### Prediction  function\n",
    "\n",
    "def predict_sentiment(review):\n",
    "    preprocessed_input=preprocess_text(review)\n",
    " \n",
    "    prediction=model.predict(preprocessed_input)\n",
    "\n",
    "    sentiment = 'Positive' if prediction[0][0] > 0.5 else 'Negative'\n",
    "    \n",
    "    return sentiment, prediction[0][0]"
   ]
  },
  {
   "cell_type": "code",
   "execution_count": null,
   "metadata": {},
   "outputs": [
    {
     "name": "stdout",
     "output_type": "stream",
     "text": [
      "1/1 [==============================] - 0s 238ms/step\n",
      "Review: Great film\n",
      "Sentiment: Positive\n",
      "Prediction Score: 0.7235501408576965\n"
     ]
    }
   ],
   "source": [
    "# Step 4: User Input and Prediction\n",
    "# Example review for prediction\n",
    "example_review = \"Great film\"\n",
    "\n",
    "sentiment,score=predict_sentiment(example_review)\n",
    "\n",
    "print(f'Review: {example_review}')\n",
    "print(f'Sentiment: {sentiment}')\n",
    "print(f'Prediction Score: {score}')"
   ]
  }
 ],
 "metadata": {
  "kernelspec": {
   "display_name": "py310",
   "language": "python",
   "name": "python3"
  },
  "language_info": {
   "codemirror_mode": {
    "name": "ipython",
    "version": 3
   },
   "file_extension": ".py",
   "mimetype": "text/x-python",
   "name": "python",
   "nbconvert_exporter": "python",
   "pygments_lexer": "ipython3",
   "version": "3.10.14"
  },
  "orig_nbformat": 4
 },
 "nbformat": 4,
 "nbformat_minor": 2
}
